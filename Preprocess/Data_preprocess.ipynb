{
 "cells": [
  {
   "cell_type": "markdown",
   "id": "861d4228",
   "metadata": {},
   "source": [
    "# Data preprocessing"
   ]
  },
  {
   "cell_type": "code",
   "execution_count": 2,
   "id": "a7538586",
   "metadata": {},
   "outputs": [],
   "source": [
    "import numpy as np\n",
    "import pandas as pd\n",
    "import matplotlib.pyplot as plt"
   ]
  },
  {
   "cell_type": "markdown",
   "id": "8fc7f68d",
   "metadata": {},
   "source": [
    "## Load Data\n",
    "\n",
    "- 각 데이터프레임 변수의 이름은 파일 이름을 그대로 사용함.  \n",
    "  예: `mBle.parquet` 파일 → 변수 이름 `mBle`\n",
    "- 전처리하는 데이터프레임의 이름은 'pre_'로 시작함. </br>\n",
    "  예: `mBle` → `pre_mBle`"
   ]
  },
  {
   "cell_type": "code",
   "execution_count": 3,
   "id": "893f1bb8",
   "metadata": {},
   "outputs": [
    {
     "name": "stdout",
     "output_type": "stream",
     "text": [
      "Loaded mACStatus with shape (939896, 3)\n",
      "Loaded mScreenStatus with shape (939653, 3)\n",
      "Loaded mUsageStats with shape (45197, 3)\n",
      "Loaded mActivity with shape (961062, 3)\n",
      "Loaded mBle with shape (21830, 3)\n",
      "Loaded mWifi with shape (76336, 3)\n",
      "Loaded wHr with shape (382918, 3)\n",
      "Loaded wPedo with shape (748100, 9)\n",
      "Loaded mGps with shape (800611, 3)\n",
      "Loaded mLight with shape (96258, 3)\n",
      "Loaded wLight with shape (633741, 3)\n",
      "Loaded mAmbience with shape (476577, 3)\n"
     ]
    }
   ],
   "source": [
    "import os\n",
    "\n",
    "# Path for data folder\n",
    "DATA_DIR = \"../data/\"\n",
    "\n",
    "# Main data item list\n",
    "file_names = [\n",
    "    \"mACStatus\", \"mScreenStatus\", \"mUsageStats\", \"mActivity\", \"mBle\", \"mWifi\",\n",
    "    \"wHr\", \"wPedo\", \"mGps\", \"mLight\",\"wLight\", \"mAmbience\"\n",
    "]\n",
    "\n",
    "data_files = {name: os.path.join(DATA_DIR, f\"ch2025_{name}.parquet\") for name in file_names}\n",
    "\n",
    "dfs = {}\n",
    "for name, file_path in data_files.items():\n",
    "    dfs[name] = pd.read_parquet(file_path)\n",
    "    globals()[name] = dfs[name]\n",
    "    print(f\"Loaded {name} with shape {dfs[name].shape}\")"
   ]
  },
  {
   "cell_type": "code",
   "execution_count": 4,
   "id": "52d87eea",
   "metadata": {},
   "outputs": [
    {
     "name": "stdout",
     "output_type": "stream",
     "text": [
      "mACStatus DataFrame:\n",
      "  subject_id           timestamp  m_charging\n",
      "0       id01 2024-06-26 12:03:00           0\n",
      "1       id01 2024-06-26 12:04:00           0\n",
      "2       id01 2024-06-26 12:05:00           0\n",
      "3       id01 2024-06-26 12:06:00           0\n",
      "4       id01 2024-06-26 12:07:00           0\n"
     ]
    }
   ],
   "source": [
    "# Check one of the dataframes\n",
    "print(f\"mACStatus DataFrame:\\n{mACStatus.head()}\")"
   ]
  },
  {
   "cell_type": "markdown",
   "id": "99f2ba09",
   "metadata": {},
   "source": [
    "## Load training and test set\n",
    "\n",
    "- Training set dataframe: `train_df`\n",
    "- Test set dataframe: `test_df`"
   ]
  },
  {
   "cell_type": "code",
   "execution_count": 5,
   "id": "87d865e7",
   "metadata": {},
   "outputs": [
    {
     "name": "stdout",
     "output_type": "stream",
     "text": [
      "total_df.shape: (700, 9)\n"
     ]
    },
    {
     "data": {
      "text/html": [
       "<div>\n",
       "<style scoped>\n",
       "    .dataframe tbody tr th:only-of-type {\n",
       "        vertical-align: middle;\n",
       "    }\n",
       "\n",
       "    .dataframe tbody tr th {\n",
       "        vertical-align: top;\n",
       "    }\n",
       "\n",
       "    .dataframe thead th {\n",
       "        text-align: right;\n",
       "    }\n",
       "</style>\n",
       "<table border=\"1\" class=\"dataframe\">\n",
       "  <thead>\n",
       "    <tr style=\"text-align: right;\">\n",
       "      <th></th>\n",
       "      <th>subject_id</th>\n",
       "      <th>sleep_date</th>\n",
       "      <th>lifelog_date</th>\n",
       "      <th>Q1</th>\n",
       "      <th>Q2</th>\n",
       "      <th>Q3</th>\n",
       "      <th>S1</th>\n",
       "      <th>S2</th>\n",
       "      <th>S3</th>\n",
       "    </tr>\n",
       "  </thead>\n",
       "  <tbody>\n",
       "    <tr>\n",
       "      <th>0</th>\n",
       "      <td>id01</td>\n",
       "      <td>2024-06-27</td>\n",
       "      <td>2024-06-26</td>\n",
       "      <td>0</td>\n",
       "      <td>0</td>\n",
       "      <td>0</td>\n",
       "      <td>0</td>\n",
       "      <td>0</td>\n",
       "      <td>1</td>\n",
       "    </tr>\n",
       "    <tr>\n",
       "      <th>1</th>\n",
       "      <td>id01</td>\n",
       "      <td>2024-06-28</td>\n",
       "      <td>2024-06-27</td>\n",
       "      <td>0</td>\n",
       "      <td>0</td>\n",
       "      <td>0</td>\n",
       "      <td>0</td>\n",
       "      <td>1</td>\n",
       "      <td>1</td>\n",
       "    </tr>\n",
       "    <tr>\n",
       "      <th>2</th>\n",
       "      <td>id01</td>\n",
       "      <td>2024-06-29</td>\n",
       "      <td>2024-06-28</td>\n",
       "      <td>1</td>\n",
       "      <td>0</td>\n",
       "      <td>0</td>\n",
       "      <td>1</td>\n",
       "      <td>1</td>\n",
       "      <td>1</td>\n",
       "    </tr>\n",
       "    <tr>\n",
       "      <th>3</th>\n",
       "      <td>id01</td>\n",
       "      <td>2024-06-30</td>\n",
       "      <td>2024-06-29</td>\n",
       "      <td>1</td>\n",
       "      <td>0</td>\n",
       "      <td>1</td>\n",
       "      <td>2</td>\n",
       "      <td>0</td>\n",
       "      <td>0</td>\n",
       "    </tr>\n",
       "    <tr>\n",
       "      <th>4</th>\n",
       "      <td>id01</td>\n",
       "      <td>2024-07-01</td>\n",
       "      <td>2024-06-30</td>\n",
       "      <td>0</td>\n",
       "      <td>1</td>\n",
       "      <td>1</td>\n",
       "      <td>1</td>\n",
       "      <td>1</td>\n",
       "      <td>1</td>\n",
       "    </tr>\n",
       "  </tbody>\n",
       "</table>\n",
       "</div>"
      ],
      "text/plain": [
       "  subject_id  sleep_date lifelog_date  Q1  Q2  Q3  S1  S2  S3\n",
       "0       id01  2024-06-27   2024-06-26   0   0   0   0   0   1\n",
       "1       id01  2024-06-28   2024-06-27   0   0   0   0   1   1\n",
       "2       id01  2024-06-29   2024-06-28   1   0   0   1   1   1\n",
       "3       id01  2024-06-30   2024-06-29   1   0   1   2   0   0\n",
       "4       id01  2024-07-01   2024-06-30   0   1   1   1   1   1"
      ]
     },
     "execution_count": 5,
     "metadata": {},
     "output_type": "execute_result"
    }
   ],
   "source": [
    "# Load train and test set\n",
    "train_df = pd.read_csv(os.path.join(DATA_DIR, \"ch2025_metrics_train.csv\"))\n",
    "test_df = pd.read_csv(os.path.join(DATA_DIR, \"ch2025_submission_sample.csv\"))\n",
    "\n",
    "# Combine train and test\n",
    "total_df = pd.concat([train_df, test_df], axis=0)\n",
    "\n",
    "print(\"total_df.shape:\", total_df.shape)\n",
    "total_df.head()"
   ]
  },
  {
   "cell_type": "markdown",
   "id": "4c5eb7d6",
   "metadata": {},
   "source": [
    "# 1. mACStatus\n",
    "- 스마트폰 충전 여부 (0: no, 1: charging)\n",
    "- 1분 단위\n",
    "---\n",
    "- **데이터에서 아웃 (temporal)**"
   ]
  },
  {
   "cell_type": "code",
   "execution_count": 6,
   "id": "21b45901",
   "metadata": {},
   "outputs": [
    {
     "name": "stdout",
     "output_type": "stream",
     "text": [
      "mACStatus DataFrame:\n",
      "   subject_id           timestamp  m_charging\n",
      "0       id01 2024-06-26 12:03:00           0\n",
      "1       id01 2024-06-26 12:04:00           0\n",
      "2       id01 2024-06-26 12:05:00           0\n"
     ]
    }
   ],
   "source": [
    "print(\"mACStatus DataFrame:\\n\", mACStatus.head(3))"
   ]
  },
  {
   "cell_type": "markdown",
   "id": "b911ec42",
   "metadata": {},
   "source": [
    "# 2. mScreenStatus\n",
    "- 스마트폰 스크린 사용 여부 (0: no, 1: using)\n",
    "- 1분 단위\n",
    "---\n",
    "- **데이터에서 아웃 → mUsageStats에 흡수**"
   ]
  },
  {
   "cell_type": "code",
   "execution_count": 7,
   "id": "b5768b21",
   "metadata": {},
   "outputs": [
    {
     "name": "stdout",
     "output_type": "stream",
     "text": [
      "mScreenStatus DataFrame:\n",
      "   subject_id           timestamp  m_screen_use\n",
      "0       id01 2024-06-26 12:03:00             0\n",
      "1       id01 2024-06-26 12:04:00             0\n",
      "2       id01 2024-06-26 12:05:00             0\n"
     ]
    }
   ],
   "source": [
    "print(\"mScreenStatus DataFrame:\\n\", mScreenStatus.head(3))"
   ]
  },
  {
   "cell_type": "markdown",
   "id": "ccd83611",
   "metadata": {},
   "source": [
    "# 3. mUsageStats\n",
    "- timestamp 당 사용한 app과 사용시간(ms단위)\n",
    "- 10분 단위(불규칙적)\n",
    "---\n",
    "- m_usage_stats 중 사용시간만 합쳐서 사용"
   ]
  },
  {
   "cell_type": "code",
   "execution_count": 8,
   "id": "e2335a12",
   "metadata": {},
   "outputs": [
    {
     "name": "stdout",
     "output_type": "stream",
     "text": [
      "mUsageStats DataFrame:\n",
      "   subject_id           timestamp  \\\n",
      "0       id01 2024-06-26 13:00:00   \n",
      "1       id01 2024-06-26 13:10:00   \n",
      "2       id01 2024-06-26 13:20:00   \n",
      "\n",
      "                                       m_usage_stats  \n",
      "0  [{'app_name': ' 캐시워크', 'total_time': 69}, {'ap...  \n",
      "1  [{'app_name': '통화', 'total_time': 26419}, {'ap...  \n",
      "2  [{'app_name': '메시지', 'total_time': 388651}, {'...  \n"
     ]
    }
   ],
   "source": [
    "print(\"mUsageStats DataFrame:\\n\", mUsageStats.head(3))"
   ]
  },
  {
   "cell_type": "code",
   "execution_count": 54,
   "id": "89a101c8",
   "metadata": {},
   "outputs": [],
   "source": [
    "# Extract only subject_id and timestamp columns\n",
    "prep_mUsageStats = mUsageStats[['subject_id', 'timestamp']].copy()\n",
    "\n",
    "# Calculate sum of 'total_time' for each row\n",
    "def sum_usage_time(usage_stats):\n",
    "    return sum(usage.get('total_time', 0) for usage in usage_stats)\n",
    "\n",
    "prep_mUsageStats['m_usage_time'] = mUsageStats['m_usage_stats'].apply(sum_usage_time)"
   ]
  },
  {
   "cell_type": "code",
   "execution_count": 53,
   "id": "d8dd2556",
   "metadata": {},
   "outputs": [
    {
     "name": "stdout",
     "output_type": "stream",
     "text": [
      "  subject_id           timestamp  m_usage_time\n",
      "0       id01 2024-06-26 13:00:00          7955\n",
      "1       id01 2024-06-26 13:10:00        490306\n",
      "2       id01 2024-06-26 13:20:00        599985\n",
      "3       id01 2024-06-26 13:30:00        212438\n",
      "4       id01 2024-06-26 13:50:00        118178\n"
     ]
    }
   ],
   "source": [
    "print(prep_mUsageStats.head())"
   ]
  },
  {
   "cell_type": "markdown",
   "id": "5af68db4",
   "metadata": {},
   "source": [
    "# 4. mActivity\n",
    "\n",
    "- 각 timestamp별로 어떤 활동(m_activity)을 했는지\n",
    "---\n",
    "- 새로운 변수 met_activity 생성\n",
    "    - m_activity에 MET(운동량 지수)를 매핑\n",
    "    - 시간대 (00~08 / 08~18 / 18~00) 별로 weight 을 달리 주어(0.3 / 0.7 / 1.0) 저녁일수록 더 영향을 주는 활동임을 반영\n",
    "- met_activity 변수만 저장"
   ]
  },
  {
   "cell_type": "code",
   "execution_count": 10,
   "id": "d34a2f9e",
   "metadata": {},
   "outputs": [
    {
     "name": "stdout",
     "output_type": "stream",
     "text": [
      "mActivity DataFrame:\n",
      "   subject_id           timestamp  m_activity\n",
      "0       id01 2024-06-26 12:03:00           4\n",
      "1       id01 2024-06-26 12:04:00           0\n",
      "2       id01 2024-06-26 12:05:00           0\n"
     ]
    }
   ],
   "source": [
    "print(\"mActivity DataFrame:\\n\", mActivity.head(3))"
   ]
  },
  {
   "cell_type": "code",
   "execution_count": 11,
   "id": "9177bfa5",
   "metadata": {},
   "outputs": [],
   "source": [
    "# Copy required columns from mActivity\n",
    "prep_mActivity = mActivity[['subject_id', 'timestamp', 'm_activity']].copy()\n",
    "\n",
    "# MET values for each activity type\n",
    "activity_to_met = {0: 1.3, 1: 7.2, 2: 2.3, 3: 1.1, 4: 1.0, 5: 1.3, 7: 3.4, 8: 8.0}\n",
    "\n",
    "# Function for time-based weight\n",
    "def get_time_weight(ts):\n",
    "    hour = ts.hour\n",
    "    if 0 <= hour < 8:\n",
    "        return 0.3\n",
    "    elif 8 <= hour < 18:\n",
    "        return 0.7\n",
    "    else:\n",
    "        return 1.0\n",
    "\n",
    "# Convert 'timestamp' to datetime\n",
    "prep_mActivity['timestamp'] = pd.to_datetime(prep_mActivity['timestamp'])\n",
    "\n",
    "# Calculate weighted MET value for each row\n",
    "prep_mActivity['met_activity'] = prep_mActivity.apply(\n",
    "    lambda row: activity_to_met.get(row['m_activity'], 1.0) * get_time_weight(row['timestamp']), axis=1\n",
    ")\n",
    "\n",
    "# Keep only final columns\n",
    "prep_mActivity = prep_mActivity[['subject_id', 'timestamp', 'met_activity']]"
   ]
  },
  {
   "cell_type": "code",
   "execution_count": 12,
   "id": "18fc7e28",
   "metadata": {},
   "outputs": [
    {
     "name": "stdout",
     "output_type": "stream",
     "text": [
      "  subject_id           timestamp  met_activity\n",
      "0       id01 2024-06-26 12:03:00          0.70\n",
      "1       id01 2024-06-26 12:04:00          0.91\n",
      "2       id01 2024-06-26 12:05:00          0.91\n",
      "3       id01 2024-06-26 12:06:00          0.91\n",
      "4       id01 2024-06-26 12:07:00          0.91\n",
      "5       id01 2024-06-26 12:08:00          0.91\n",
      "6       id01 2024-06-26 12:09:00          0.91\n",
      "7       id01 2024-06-26 12:10:00          0.91\n",
      "8       id01 2024-06-26 12:11:00          0.77\n",
      "9       id01 2024-06-26 12:12:00          0.77\n"
     ]
    }
   ],
   "source": [
    "print(prep_mActivity.head(10))"
   ]
  },
  {
   "cell_type": "markdown",
   "id": "fec8c184",
   "metadata": {},
   "source": [
    "# 5. mBle\n",
    "- timestampe당 주변 Bluetooth 기기들의 address, device class, rssi 값 저장\n",
    "- address : 블루투스 기기의 고유식별자 (MAC address)\n",
    "- device_class : 블루투스 기기의 class(분류)\n",
    "- rssi : 신호 세기, 기기로부터 수신된 신호의 강도 (0에 가까운 값을수록 신호 강함)\n",
    "--- \n",
    "- 기기가 가까이 있으면 전자파로 수면에 방해를 줄 수 있으므로, rssi 값만 고려하여 변수를 생성\n",
    "- 변수 이름 wb_rssi (weighted bluetooth rssi)\n",
    "- weighted rssi 생성 방법\n",
    "    - 각 timestamp에 대해 다음과 같이 계산\n",
    "    $$\n",
    "    \\text{weighted rssi} = \\sum e^{\\frac{\\text{rssi}}{10}}\n",
    "    $$\n",
    "- 다른 방식으로 변수를 만들 수도 있음\n",
    "    - 예: 기준에 따라 범주(label) 나누고 → sigmoid function 으로 변환 (주형)"
   ]
  },
  {
   "cell_type": "code",
   "execution_count": 13,
   "id": "de56317f",
   "metadata": {},
   "outputs": [
    {
     "name": "stdout",
     "output_type": "stream",
     "text": [
      "mBle DataFrame:\n",
      "   subject_id           timestamp  \\\n",
      "0       id01 2024-06-26 12:13:00   \n",
      "1       id01 2024-06-26 12:23:00   \n",
      "2       id01 2024-06-26 12:33:00   \n",
      "\n",
      "                                               m_ble  \n",
      "0  [{'address': '00:15:7C:11:80:8D', 'device_clas...  \n",
      "1  [{'address': '0A:B1:26:4D:76:21', 'device_clas...  \n",
      "2  [{'address': '04:F5:AE:39:95:E0', 'device_clas...  \n"
     ]
    }
   ],
   "source": [
    "print(\"mBle DataFrame:\\n\", mBle.head(3))"
   ]
  },
  {
   "cell_type": "code",
   "execution_count": 14,
   "id": "a8846c3d",
   "metadata": {},
   "outputs": [],
   "source": [
    "# Extract 'subject_id' and 'timestamp' columns\n",
    "prep_mBle = mBle[['subject_id', 'timestamp']].copy()\n",
    "\n",
    "# Calculate weighted bluetooth RSSI for each row\n",
    "def weighted_ble_rssi(ble_stats):\n",
    "    return sum(np.exp(ble.get('rssi', 0) / 10) for ble in ble_stats)\n",
    "\n",
    "prep_mBle['wb_rssi'] = mBle['m_ble'].apply(weighted_ble_rssi)"
   ]
  },
  {
   "cell_type": "code",
   "execution_count": 73,
   "id": "56318a60",
   "metadata": {},
   "outputs": [
    {
     "name": "stdout",
     "output_type": "stream",
     "text": [
      "  subject_id           timestamp   wb_rssi\n",
      "0       id01 2024-06-26 12:13:00  0.102155\n",
      "1       id01 2024-06-26 12:23:00  0.098621\n",
      "2       id01 2024-06-26 12:33:00  0.037712\n",
      "3       id01 2024-06-26 13:23:00  0.017129\n",
      "4       id01 2024-06-26 14:23:00  0.000258\n",
      "5       id01 2024-06-26 14:33:00  0.014149\n",
      "6       id01 2024-06-26 14:53:00  0.041060\n",
      "7       id01 2024-06-26 15:13:00  0.041294\n",
      "8       id01 2024-06-26 15:23:00  0.039764\n",
      "9       id01 2024-06-26 15:43:00  0.035066\n"
     ]
    }
   ],
   "source": [
    "print(prep_mBle.head(10))"
   ]
  },
  {
   "cell_type": "markdown",
   "id": "f29b865b",
   "metadata": {},
   "source": [
    "# 6. mWifi\n",
    "- timestampe당 주변 Wifi 기기들의 bssid, rssi 값 저장\n",
    "- bssid : 무선 액세스 포인트의 고유식별자 (MAC address)\n",
    "- rssi : 신호 세기, 기기로부터 수신된 신호의 강도 (0에 가까운 값을수록 신호 강함)\n",
    "--- \n",
    "mBle와 같은 방식으로,\n",
    "- 기기가 가까이 있으면 전자파로 수면에 방해를 줄 수 있으므로, rssi 값만 고려하여 변수를 생성\n",
    "- 변수 이름 ww_rssi (weighted wifi rssi)\n",
    "- weighted rssi 생성 방법\n",
    "    - 각 timestamp에 대해 다음과 같이 계산\n",
    "    $$\n",
    "    \\text{weighted rssi} = \\sum e^{\\frac{\\text{rssi}}{10}}\n",
    "    $$\n",
    "- 마찬가지로, 다른 방식으로 변수를 만들 수도 있음\n",
    "    - 예: 기준에 따라 범주(label) 나누고 → sigmoid function 으로 변환 (주형)"
   ]
  },
  {
   "cell_type": "code",
   "execution_count": 16,
   "id": "48e6ffd0",
   "metadata": {},
   "outputs": [
    {
     "name": "stdout",
     "output_type": "stream",
     "text": [
      "mWifi DataFrame:\n",
      "   subject_id           timestamp  \\\n",
      "0       id01 2024-06-26 12:03:00   \n",
      "1       id01 2024-06-26 12:13:00   \n",
      "2       id01 2024-06-26 12:23:00   \n",
      "\n",
      "                                              m_wifi  \n",
      "0  [{'bssid': 'a0:0f:37:9a:5d:8b', 'rssi': -78}, ...  \n",
      "1  [{'bssid': 'a0:0f:37:9a:5d:8b', 'rssi': -79}, ...  \n",
      "2  [{'bssid': '10:e3:c7:0a:74:d1', 'rssi': -78}, ...  \n"
     ]
    }
   ],
   "source": [
    "print(\"mWifi DataFrame:\\n\", mWifi.head(3))"
   ]
  },
  {
   "cell_type": "code",
   "execution_count": 17,
   "id": "45cf8884",
   "metadata": {},
   "outputs": [],
   "source": [
    "# Extract 'subject_id' and 'timestamp' columns\n",
    "prep_mWifi = mWifi[['subject_id', 'timestamp']].copy()\n",
    "\n",
    "# Calculate weighted wifi RSSI for each row\n",
    "def weighted_wifi_rssi(wifi_stats):\n",
    "    return sum(np.exp(wifi.get('rssi', 0) / 10) for wifi in wifi_stats)\n",
    "\n",
    "prep_mWifi['ww_rssi'] = mWifi['m_wifi'].apply(weighted_wifi_rssi)"
   ]
  },
  {
   "cell_type": "code",
   "execution_count": 18,
   "id": "f5c4ca8a",
   "metadata": {},
   "outputs": [
    {
     "name": "stdout",
     "output_type": "stream",
     "text": [
      "  subject_id           timestamp   ww_rssi\n",
      "0       id01 2024-06-26 12:03:00  0.202476\n",
      "1       id01 2024-06-26 12:13:00  0.091135\n",
      "2       id01 2024-06-26 12:23:00  0.063361\n"
     ]
    }
   ],
   "source": [
    "print(prep_mWifi.head(3))"
   ]
  },
  {
   "cell_type": "markdown",
   "id": "07f25b97",
   "metadata": {},
   "source": [
    "# 7. wHr\n",
    "- timestamp 당 초당 heart_rate\n",
    "---\n",
    "- timestamp 당 평균 heart_rate를 avg_heart_rate 로 저장"
   ]
  },
  {
   "cell_type": "code",
   "execution_count": 19,
   "id": "8cf0844c",
   "metadata": {},
   "outputs": [
    {
     "name": "stdout",
     "output_type": "stream",
     "text": [
      "wHr DataFrame:\n",
      "   subject_id           timestamp  \\\n",
      "0       id01 2024-06-26 12:23:00   \n",
      "1       id01 2024-06-26 12:24:00   \n",
      "2       id01 2024-06-26 12:25:00   \n",
      "\n",
      "                                          heart_rate  \n",
      "0  [134, 134, 135, 133, 134, 135, 134, 135, 134, ...  \n",
      "1  [123, 122, 121, 120, 121, 121, 120, 118, 119, ...  \n",
      "2  [120, 119, 117, 116, 119, 121, 123, 123, 121, ...  \n"
     ]
    }
   ],
   "source": [
    "print(\"wHr DataFrame:\\n\", wHr.head(3))"
   ]
  },
  {
   "cell_type": "code",
   "execution_count": 20,
   "id": "5ebcd0fa",
   "metadata": {},
   "outputs": [],
   "source": [
    "prep_wHr = wHr[['subject_id', 'timestamp']].copy()\n",
    "\n",
    "# Calculate average heart rate for each row and store in 'avg_heart_rate'\n",
    "prep_wHr['avg_heart_rate'] = wHr['heart_rate'].apply(lambda x: np.mean(x))"
   ]
  },
  {
   "cell_type": "code",
   "execution_count": 21,
   "id": "804c4a25",
   "metadata": {},
   "outputs": [
    {
     "name": "stdout",
     "output_type": "stream",
     "text": [
      "  subject_id           timestamp  avg_heart_rate\n",
      "0       id01 2024-06-26 12:23:00      130.794872\n",
      "1       id01 2024-06-26 12:24:00      120.500000\n",
      "2       id01 2024-06-26 12:25:00      119.850000\n"
     ]
    }
   ],
   "source": [
    "print(prep_wHr.head(3))"
   ]
  },
  {
   "cell_type": "markdown",
   "id": "ced49beb",
   "metadata": {},
   "source": [
    "# 8. wPedo\n",
    "- Step count data and related information measured by the smartwatch.\n",
    "- burned calories, distance, speed, steps, step_frequency\n",
    "---\n",
    "- running_step, walking_step, step, step_frequency drop (Why?)\n",
    "- distance, burned calories 만 살림"
   ]
  },
  {
   "cell_type": "code",
   "execution_count": 22,
   "id": "e03dd128",
   "metadata": {},
   "outputs": [
    {
     "name": "stdout",
     "output_type": "stream",
     "text": [
      "wPedo DataFrame:\n",
      "   subject_id           timestamp  step  step_frequency  running_step  \\\n",
      "0       id01 2024-06-26 12:09:00    10        0.166667             0   \n",
      "1       id01 2024-06-26 12:10:00     0        0.000000             0   \n",
      "2       id01 2024-06-26 12:11:00     0        0.000000             0   \n",
      "\n",
      "   walking_step  distance     speed  burned_calories  \n",
      "0             0      8.33  0.138833              0.0  \n",
      "1             0      0.00  0.000000              0.0  \n",
      "2             0      0.00  0.000000              0.0  \n"
     ]
    }
   ],
   "source": [
    "print(\"wPedo DataFrame:\\n\", wPedo.head(3))"
   ]
  },
  {
   "cell_type": "code",
   "execution_count": 23,
   "id": "db036b4f",
   "metadata": {},
   "outputs": [],
   "source": [
    "prep_wPedo = wPedo[['subject_id', 'timestamp']].copy()\n",
    "\n",
    "# Keep only subject_id, timestamp, distance, and burned_calories\n",
    "prep_wPedo = wPedo[['subject_id', 'timestamp', 'distance', 'burned_calories']].copy()"
   ]
  },
  {
   "cell_type": "code",
   "execution_count": 24,
   "id": "cbae590a",
   "metadata": {},
   "outputs": [
    {
     "name": "stdout",
     "output_type": "stream",
     "text": [
      "  subject_id           timestamp  distance  burned_calories\n",
      "0       id01 2024-06-26 12:09:00      8.33              0.0\n",
      "1       id01 2024-06-26 12:10:00      0.00              0.0\n",
      "2       id01 2024-06-26 12:11:00      0.00              0.0\n"
     ]
    }
   ],
   "source": [
    "print(prep_wPedo.head(3))"
   ]
  },
  {
   "cell_type": "markdown",
   "id": "cf319ead",
   "metadata": {},
   "source": [
    "# 9. mGps\n",
    "- m_gps\n",
    "    - atitude, longitude, altitude, speed\n",
    "- 12 times per minute\n",
    "- latitude and longitude converted to relative coordinates for privacy protection\n",
    "---\n",
    "- 각 timestamp 당 latitude, longitude, altitude, speed 평균값을 추가.\n",
    "- 변수 이름은 avg_latitude, avg_longitude, avg_altitude, avg_speed\n"
   ]
  },
  {
   "cell_type": "code",
   "execution_count": 25,
   "id": "859b35d2",
   "metadata": {},
   "outputs": [
    {
     "name": "stdout",
     "output_type": "stream",
     "text": [
      "mGps DataFrame:\n",
      "   subject_id           timestamp  \\\n",
      "0       id01 2024-06-26 12:03:00   \n",
      "1       id01 2024-06-26 12:04:00   \n",
      "2       id01 2024-06-26 12:05:00   \n",
      "\n",
      "                                               m_gps  \n",
      "0  [{'altitude': 110.6, 'latitude': 0.2077385, 'l...  \n",
      "1  [{'altitude': 110.8, 'latitude': 0.2078068, 'l...  \n",
      "2  [{'altitude': 110.7, 'latitude': 0.2078214, 'l...  \n"
     ]
    }
   ],
   "source": [
    "print(\"mGps DataFrame:\\n\", mGps.head(3))"
   ]
  },
  {
   "cell_type": "code",
   "execution_count": 26,
   "id": "364f8da4",
   "metadata": {},
   "outputs": [],
   "source": [
    "# Extract needed columns\n",
    "prep_mGps = mGps[['subject_id', 'timestamp']].copy()\n",
    "\n",
    "# Function to calculate averages for each list of gps dicts\n",
    "def calc_gps_avgs(gps_list, key):\n",
    "    vals = [item.get(key, np.nan) for item in gps_list if item.get(key) is not None]\n",
    "    return np.mean(vals) if vals else np.nan\n",
    "\n",
    "prep_mGps['avg_latitude'] = mGps['m_gps'].apply(lambda gps: calc_gps_avgs(gps, 'latitude'))\n",
    "prep_mGps['avg_longitude'] = mGps['m_gps'].apply(lambda gps: calc_gps_avgs(gps, 'longitude'))\n",
    "prep_mGps['avg_altitude'] = mGps['m_gps'].apply(lambda gps: calc_gps_avgs(gps, 'altitude'))\n",
    "prep_mGps['avg_speed'] = mGps['m_gps'].apply(lambda gps: calc_gps_avgs(gps, 'speed'))"
   ]
  },
  {
   "cell_type": "code",
   "execution_count": 27,
   "id": "85c68bb8",
   "metadata": {},
   "outputs": [
    {
     "name": "stdout",
     "output_type": "stream",
     "text": [
      "  subject_id           timestamp  avg_latitude  avg_longitude  avg_altitude  \\\n",
      "0       id01 2024-06-26 12:03:00      0.207788       0.169974    110.763636   \n",
      "1       id01 2024-06-26 12:04:00      0.207812       0.169962    110.718182   \n",
      "2       id01 2024-06-26 12:05:00      0.207829       0.169959    110.709091   \n",
      "\n",
      "   avg_speed  \n",
      "0   0.170755  \n",
      "1   0.028209  \n",
      "2   0.039736  \n"
     ]
    }
   ],
   "source": [
    "print(prep_mGps.head(3))"
   ]
  },
  {
   "cell_type": "markdown",
   "id": "ec380703",
   "metadata": {},
   "source": [
    "# 10. wLight & 11. mLight\n",
    "- 10분 단위\n",
    "- m_light : Ambient light in lx unit\n",
    "- w_light : Ambient light in lx unit\n",
    "--- \n",
    "- 둘 중에 결측이 적은 wLight 사용\n",
    "- 따로 전처리 필요 없음\n"
   ]
  },
  {
   "cell_type": "code",
   "execution_count": 28,
   "id": "5584a032",
   "metadata": {},
   "outputs": [
    {
     "name": "stdout",
     "output_type": "stream",
     "text": [
      "mLight DataFrame:\n",
      "   subject_id           timestamp  m_light\n",
      "0       id01 2024-06-26 12:03:00    534.0\n",
      "1       id01 2024-06-26 12:13:00    846.0\n",
      "2       id01 2024-06-26 12:23:00    826.0\n",
      "\n",
      "\n",
      "wLight DataFrame:\n",
      "   subject_id           timestamp  w_light\n",
      "0       id01 2024-06-26 12:17:00    633.0\n",
      "1       id01 2024-06-26 12:18:00    483.0\n",
      "2       id01 2024-06-26 12:19:00    541.0\n"
     ]
    }
   ],
   "source": [
    "print(\"mLight DataFrame:\\n\", mLight.head(3))\n",
    "print(\"\\n\")\n",
    "print(\"wLight DataFrame:\\n\", wLight.head(3))"
   ]
  },
  {
   "cell_type": "code",
   "execution_count": 29,
   "id": "5b5c4c3e",
   "metadata": {},
   "outputs": [],
   "source": [
    "prep_wLight = wLight"
   ]
  },
  {
   "cell_type": "code",
   "execution_count": 30,
   "id": "6cf3d429",
   "metadata": {},
   "outputs": [
    {
     "name": "stdout",
     "output_type": "stream",
     "text": [
      "  subject_id           timestamp  w_light\n",
      "0       id01 2024-06-26 12:17:00    633.0\n",
      "1       id01 2024-06-26 12:18:00    483.0\n",
      "2       id01 2024-06-26 12:19:00    541.0\n"
     ]
    }
   ],
   "source": [
    "print(prep_wLight.head(3))"
   ]
  },
  {
   "cell_type": "code",
   "execution_count": null,
   "id": "d65fbcc6",
   "metadata": {},
   "outputs": [],
   "source": []
  },
  {
   "cell_type": "markdown",
   "id": "fa959d7d",
   "metadata": {},
   "source": [
    "# 12. mAbience\n",
    "- Audio-based labels detected on smartphones. Recorded once every 2 minutes.\n",
    "- ambience_labels: List of the top 10 labels along with their respective probabilities.\n",
    "---\n",
    "- 일단은 baseline 대로 바꿈\n",
    "    - top_10_label에 있는 항목들이 row의 m_ambience에 존재할 경우\n",
    "    - probability 를 모두 더해서 prob_ambience 값을 저장\n",
    "- (건호)님이 하신 거로 나중에 바꾸면 될 거 같습니다!"
   ]
  },
  {
   "cell_type": "code",
   "execution_count": 31,
   "id": "8628bab2",
   "metadata": {},
   "outputs": [
    {
     "name": "stdout",
     "output_type": "stream",
     "text": [
      "mAmbience DataFrame:\n",
      "   subject_id           timestamp  \\\n",
      "0       id01 2024-06-26 13:00:10   \n",
      "1       id01 2024-06-26 13:02:10   \n",
      "2       id01 2024-06-26 13:04:10   \n",
      "\n",
      "                                          m_ambience  \n",
      "0  [[Music, 0.30902618], [Vehicle, 0.081680894], ...  \n",
      "1  [[Music, 0.62307084], [Vehicle, 0.021118319], ...  \n",
      "2  [[Horse, 0.25209898], [Animal, 0.24263993], [C...  \n"
     ]
    }
   ],
   "source": [
    "print(\"mAmbience DataFrame:\\n\", mAmbience.head(3))"
   ]
  },
  {
   "cell_type": "code",
   "execution_count": 46,
   "id": "0b71de64",
   "metadata": {},
   "outputs": [],
   "source": [
    "# List of top 10 labels\n",
    "top_10_labels = [\n",
    "    \"Inside, small room\", \"Speech\", \"Silence\", \"Music\",\n",
    "    \"Narration, monologue\", \"Child speech, kid speaking\",\n",
    "    \"Conversation\", \"Speech synthesizer\", \"Shout\", \"Babbling\"\n",
    "]\n",
    "\n",
    "def calc_prob_ambience(amb_list):\n",
    "    # Check if amb_list is None or has zero length\n",
    "    if amb_list is None or len(amb_list) == 0:\n",
    "        return 0.0\n",
    "    prob_sum = 0.0\n",
    "    for arr in amb_list:\n",
    "        if isinstance(arr, (list, np.ndarray)) and len(arr) == 2:\n",
    "            label = arr[0]\n",
    "            try:\n",
    "                prob = float(arr[1])\n",
    "            except:\n",
    "                prob = 0.0\n",
    "            if label in top_10_labels:\n",
    "                prob_sum += prob\n",
    "    return prob_sum\n",
    "\n",
    "prep_mAmbience = mAmbience[['subject_id', 'timestamp']].copy()\n",
    "prep_mAmbience['prob_ambience'] = mAmbience['m_ambience'].apply(calc_prob_ambience)"
   ]
  },
  {
   "cell_type": "code",
   "execution_count": 47,
   "id": "286bad1d",
   "metadata": {},
   "outputs": [
    {
     "name": "stdout",
     "output_type": "stream",
     "text": [
      "  subject_id           timestamp  prob_ambience\n",
      "0       id01 2024-06-26 13:00:10       0.338832\n",
      "1       id01 2024-06-26 13:02:10       0.623071\n",
      "2       id01 2024-06-26 13:04:10       0.000000\n"
     ]
    }
   ],
   "source": [
    "print(prep_mAmbience.head(3))"
   ]
  },
  {
   "cell_type": "markdown",
   "id": "cede9a8c",
   "metadata": {},
   "source": [
    "# Merge!\n",
    "\n",
    "\n",
    "\n",
    "\n",
    "\n",
    "\n",
    "\n"
   ]
  },
  {
   "cell_type": "markdown",
   "id": "8988b561",
   "metadata": {},
   "source": [
    "### Generate df_merge\n",
    "- 각 전처리 데이터마다, subject_id별로 가장 이른 timestamp(min)와 가장 늦은 timestamp(max)을 찾음\n",
    "- 각 파일에서 추출한 min/max timestamp 중 가장 이른 시간을 min_time, 가장 늦은 시간을 max_time으로 설정\n",
    "    - min_time과 max_time이 10분 단위가 아닐 경우, min_time은 내림(가장 가까운 이전 10분), max_time은 올림(가장 가까운 이후 10분)으로 변환\n",
    "- 각 subject_id별로 모든 전처리 데이터에서의 최소~최대 timestamp 구간을 10분 단위로 생성하여, 전체 subject의 타임라인을 merge_df로 통합\n"
   ]
  },
  {
   "cell_type": "code",
   "execution_count": 52,
   "id": "a59f4779",
   "metadata": {},
   "outputs": [],
   "source": [
    "# List of all preprocessed DataFrame variable names (already loaded in the session)\n",
    "preprocessed_files = [\n",
    "    prep_mActivity,prep_mUsageStats, prep_mAmbience,\n",
    "    prep_mBle, prep_mGps,prep_mWifi, prep_wHr, prep_wLight, prep_wPedo\n",
    "]\n",
    "\n",
    "result_list = []\n",
    "\n",
    "# Get all unique subject_ids (assume every file has subject_id column)\n",
    "all_ids = sorted(set(np.concatenate([df['subject_id'].unique() for df in preprocessed_files])))\n",
    "\n",
    "for sid in all_ids:\n",
    "    min_times, max_times = [], []\n",
    "    # Find min/max timestamp per file for the current subject_id\n",
    "    for df in preprocessed_files:\n",
    "        df_id = df[df['subject_id'] == sid]\n",
    "        if len(df_id) > 0:\n",
    "            min_times.append(df_id['timestamp'].min())\n",
    "            max_times.append(df_id['timestamp'].max())\n",
    "    # Combine all min/max times\n",
    "    if len(min_times) == 0 or len(max_times) == 0:\n",
    "        continue  # No data for this id in any file\n",
    "\n",
    "    # Get global min_time and max_time across all files (as pd.Timestamp)\n",
    "    min_time = pd.to_datetime(min(min_times))\n",
    "    max_time = pd.to_datetime(max(max_times))\n",
    "\n",
    "    # Floor min_time to nearest 10min, Ceil max_time to nearest 10min\n",
    "    def floor_10min(ts):\n",
    "        return ts - pd.Timedelta(minutes=ts.minute % 10, seconds=ts.second, microseconds=ts.microsecond)\n",
    "    def ceil_10min(ts):\n",
    "        if ts.minute % 10 == 0 and ts.second == 0 and ts.microsecond == 0:\n",
    "            return ts\n",
    "        return ts + pd.Timedelta(minutes=10 - ts.minute % 10, seconds=-ts.second, microseconds=-ts.microsecond)\n",
    "\n",
    "    min_time_10 = floor_10min(min_time)\n",
    "    max_time_10 = ceil_10min(max_time)\n",
    "\n",
    "    # Create timestamp range for this subject_id\n",
    "    timestamps = pd.date_range(start=min_time_10, end=max_time_10, freq='10min')\n",
    "\n",
    "    # Create DataFrame for this subject_id\n",
    "    df_id = pd.DataFrame({'subject_id': sid, 'timestamp': timestamps})\n",
    "    result_list.append(df_id)\n",
    "\n",
    "# Concatenate all results\n",
    "merge_df = pd.concat(result_list, ignore_index=True)"
   ]
  },
  {
   "cell_type": "code",
   "execution_count": 51,
   "id": "aedf330d",
   "metadata": {},
   "outputs": [
    {
     "name": "stdout",
     "output_type": "stream",
     "text": [
      "merge dataframe:\n",
      "        subject_id           timestamp\n",
      "0            id01 2024-06-26 12:00:00\n",
      "1            id01 2024-06-26 12:10:00\n",
      "2            id01 2024-06-26 12:20:00\n",
      "3            id01 2024-06-26 12:30:00\n",
      "4            id01 2024-06-26 12:40:00\n",
      "...           ...                 ...\n",
      "122276       id10 2024-09-26 23:20:00\n",
      "122277       id10 2024-09-26 23:30:00\n",
      "122278       id10 2024-09-26 23:40:00\n",
      "122279       id10 2024-09-26 23:50:00\n",
      "122280       id10 2024-09-27 00:00:00\n",
      "\n",
      "[122281 rows x 2 columns]\n",
      "merge_df shape\n",
      " (122281, 2)\n"
     ]
    }
   ],
   "source": [
    "print(\"merge dataframe:\\n\", merge_df)\n",
    "print(\"merge_df shape\\n\", merge_df.shape)\n"
   ]
  },
  {
   "cell_type": "markdown",
   "id": "4104fc1d",
   "metadata": {},
   "source": [
    "### Merging all preprocessed data\n",
    "1. prep_mUsageStats\n",
    "    1. 같은 timestamp 에 대해 m_usage_time 값 할당\n",
    "    2. (결측치 생길 수 있음) → 일단은 놔둔다\n",
    "2. prep_mActivity\n",
    "    1. merge_df에 met_activity 열 생성\n",
    "    2. 모든 row 에 대해서 \n",
    "        1. row n의 timestamp 가 가장 가까운 merge_df의 row의 met_activity 열에 prep_mActivity row n의 met_activity 값을 더해줌. \n",
    "3. prep_mBle\n",
    "    1. merge_df에 wb_rssi 열 생성\n",
    "    2. 모든 row에 대해서\n",
    "        1. row n의 timestamp 가 가장 가까운 merge_df의 row의 wb_rssi 열에 prep_mBle의 wb_rssi 값 할당\n",
    "4. prep_mWifi\n",
    "    1. merge_df에 ww_rssi 열 생성\n",
    "    2. 모든 row에 대해서\n",
    "        1. row n의 timestamp가 가장 가까운 merge_df의 row의 ww_rssi 열에 prep_mWifi의 ww_rssi 값 할당\n",
    "5. wHr\n",
    "    1. merge_df에 avg_heart_rate 열 생성\n",
    "    2. 모든 row 에 대해서 \n",
    "        1. row n의 timestamp 가 가장 가까운 merge_df의 row의 avg_heart_rate 열에 prep_wHr row n의 avg_heart_rate 값을 더해주고 더한 값들의 평균을 최종 저장\n",
    "6. wPedo\n",
    "    1. merge_df에 distance, burned_calories 열 생성\n",
    "    2. 모든 row 에 대해서\n",
    "        1. row n의 timestamp 가 가장 가까운 merge_df의 row의 distance 열에 \n",
    "        prep_wPedo row n의 distance 값을 더해줌\n",
    "        2. 위의 과정의 distance, burned_calories 열들에 대해 실행\n",
    "7. mGps\n",
    "    1. merge_df에 avg_latitude, avg_longitude, avg_altitude, avg_speed 열 생성\n",
    "    2. 모든 row 에 대해서\n",
    "        1. row n의 timestamp가 가장 가까운 merge_df의 row의 avg_latitude 열에\n",
    "        prep_mGps row n의 avg_latitude 값들의 평균을 저장\n",
    "        2. 위의 과정을 avg_latitude, avg_longitude, avg_altitude, avg_speed 열들에 대해 실행\n",
    "8. wLight\n",
    "    1. merge_df에 avg_light 열 생성\n",
    "    2. 모든 row 에 대해서 \n",
    "        1. row n의 timestamp 가 가장 가까운 merge_df의 row의 avg_light 열에 prep_wLight row n의 w_light 값을 더해주고 더한 값들의 평균을 최종 저장\n",
    "9. mAmbience\n",
    "    1. merge_df에 avg_prob_ambience 열 생성\n",
    "    2. 모든 row 에 대해서 \n",
    "        1. row n의 timestamp 가 가장 가까운 merge_df의 row의 avg_prob_ambience 열에 \n",
    "        prep_wAmbience row n의 prob_ambience 값을 더해주고 더한 값들의 평균을 최종 저장"
   ]
  },
  {
   "cell_type": "code",
   "execution_count": 65,
   "id": "38034935",
   "metadata": {},
   "outputs": [
    {
     "name": "stdout",
     "output_type": "stream",
     "text": [
      "[id01] mUsageStats merge complete.\n",
      "[id01] mActivity merge complete.\n",
      "[id01] mBle merge complete.\n",
      "[id01] mWifi merge complete.\n",
      "[id02] mUsageStats merge complete.\n",
      "[id02] mActivity merge complete.\n",
      "[id02] mBle merge complete.\n",
      "[id02] mWifi merge complete.\n",
      "[id03] mUsageStats merge complete.\n",
      "[id03] mActivity merge complete.\n",
      "[id03] mBle merge complete.\n",
      "[id03] mWifi merge complete.\n",
      "[id04] mUsageStats merge complete.\n",
      "[id04] mActivity merge complete.\n",
      "[id04] mBle merge complete.\n",
      "[id04] mWifi merge complete.\n",
      "[id05] mUsageStats merge complete.\n",
      "[id05] mActivity merge complete.\n",
      "[id05] mBle merge complete.\n",
      "[id05] mWifi merge complete.\n",
      "[id06] mUsageStats merge complete.\n",
      "[id06] mActivity merge complete.\n",
      "[id06] mBle merge complete.\n",
      "[id06] mWifi merge complete.\n",
      "[id07] mUsageStats merge complete.\n",
      "[id07] mActivity merge complete.\n",
      "[id07] mBle merge complete.\n",
      "[id07] mWifi merge complete.\n",
      "[id08] mUsageStats merge complete.\n",
      "[id08] mActivity merge complete.\n",
      "[id08] mBle merge complete.\n",
      "[id08] mWifi merge complete.\n",
      "[id09] mUsageStats merge complete.\n",
      "[id09] mActivity merge complete.\n",
      "[id09] mBle merge complete.\n",
      "[id09] mWifi merge complete.\n",
      "[id10] mUsageStats merge complete.\n",
      "[id10] mActivity merge complete.\n",
      "[id10] mBle merge complete.\n",
      "[id10] mWifi merge complete.\n"
     ]
    }
   ],
   "source": [
    "# Sort and reset index\n",
    "merge_df = merge_df.sort_values(['subject_id', 'timestamp']).reset_index(drop=True)\n",
    "\n",
    "# Add columns\n",
    "merge_df['m_usage_time'] = np.nan\n",
    "merge_df['met_activity'] = 0.0\n",
    "merge_df['wb_rssi'] = np.nan\n",
    "merge_df['ww_rssi'] = np.nan\n",
    "\n",
    "all_ids = merge_df['subject_id'].unique()\n",
    "\n",
    "for sid in all_ids:\n",
    "    merge_mask = (merge_df['subject_id'] == sid)\n",
    "\n",
    "    # 1. prep_mUsageStats: assign by exact match\n",
    "    usage = prep_mUsageStats[prep_mUsageStats['subject_id'] == sid].set_index('timestamp')\n",
    "    merge_df.loc[merge_mask, 'm_usage_time'] = merge_df.loc[merge_mask, 'timestamp'].map(usage['m_usage_time'])\n",
    "    print(f\"[{sid}] mUsageStats merge complete.\")\n",
    "\n",
    "    # 2. prep_mActivity: closest timestamp, sum if multiple\n",
    "    activity = prep_mActivity[prep_mActivity['subject_id'] == sid]\n",
    "    for _, row in activity.iterrows():\n",
    "        idx = (merge_df[merge_mask]['timestamp'] - row['timestamp']).abs().idxmin()\n",
    "        merge_df.loc[idx, 'met_activity'] += row['met_activity']\n",
    "    print(f\"[{sid}] mActivity merge complete.\")\n",
    "\n",
    "    # 3. prep_mBle: closest timestamp, assign\n",
    "    ble = prep_mBle[prep_mBle['subject_id'] == sid]\n",
    "    for _, row in ble.iterrows():\n",
    "        idx = (merge_df[merge_mask]['timestamp'] - row['timestamp']).abs().idxmin()\n",
    "        merge_df.loc[idx, 'wb_rssi'] = row['wb_rssi']\n",
    "    print(f\"[{sid}] mBle merge complete.\")\n",
    "\n",
    "    # 4. prep_mWifi: closest timestamp, assign\n",
    "    wifi = prep_mWifi[prep_mWifi['subject_id'] == sid]\n",
    "    for _, row in wifi.iterrows():\n",
    "        idx = (merge_df[merge_mask]['timestamp'] - row['timestamp']).abs().idxmin()\n",
    "        merge_df.loc[idx, 'ww_rssi'] = row['ww_rssi']\n",
    "    print(f\"[{sid}] mWifi merge complete.\")"
   ]
  },
  {
   "cell_type": "code",
   "execution_count": 67,
   "id": "9d8d2052",
   "metadata": {},
   "outputs": [
    {
     "name": "stdout",
     "output_type": "stream",
     "text": [
      "[id01] wHr merge complete.\n",
      "[id01] wPedo merge complete.\n",
      "[id01] mGps merge complete.\n",
      "[id02] wHr merge complete.\n",
      "[id02] wPedo merge complete.\n",
      "[id02] mGps merge complete.\n",
      "[id03] wHr merge complete.\n",
      "[id03] wPedo merge complete.\n",
      "[id03] mGps merge complete.\n",
      "[id04] wHr merge complete.\n",
      "[id04] wPedo merge complete.\n",
      "[id04] mGps merge complete.\n",
      "[id05] wHr merge complete.\n",
      "[id05] wPedo merge complete.\n",
      "[id05] mGps merge complete.\n",
      "[id06] wHr merge complete.\n",
      "[id06] wPedo merge complete.\n",
      "[id06] mGps merge complete.\n",
      "[id07] wHr merge complete.\n",
      "[id07] wPedo merge complete.\n",
      "[id07] mGps merge complete.\n",
      "[id08] wHr merge complete.\n",
      "[id08] wPedo merge complete.\n",
      "[id08] mGps merge complete.\n",
      "[id09] wHr merge complete.\n",
      "[id09] wPedo merge complete.\n",
      "[id09] mGps merge complete.\n",
      "[id10] wHr merge complete.\n",
      "[id10] wPedo merge complete.\n",
      "[id10] mGps merge complete.\n"
     ]
    }
   ],
   "source": [
    "# 5, 6, 7\n",
    "\n",
    "for sid in all_ids:\n",
    "    merge_mask = (merge_df['subject_id'] == sid)\n",
    "    \n",
    "    # 5. prep_wHr (avg_heart_rate, 평균)\n",
    "    merge_df.loc[merge_mask, 'sum_heart_rate'] = 0.0\n",
    "    merge_df.loc[merge_mask, 'count_heart_rate'] = 0\n",
    "    merge_df.loc[merge_mask, 'avg_heart_rate'] = np.nan\n",
    "\n",
    "    wh = prep_wHr[prep_wHr['subject_id'] == sid]\n",
    "    for _, row in wh.iterrows():\n",
    "        idx = (merge_df[merge_mask]['timestamp'] - row['timestamp']).abs().idxmin()\n",
    "        merge_df.loc[idx, 'sum_heart_rate'] += row['avg_heart_rate']\n",
    "        merge_df.loc[idx, 'count_heart_rate'] += 1\n",
    "    mask = (merge_df['subject_id'] == sid) & (merge_df['count_heart_rate'] > 0)\n",
    "    merge_df.loc[mask, 'avg_heart_rate'] = merge_df.loc[mask, 'sum_heart_rate'] / merge_df.loc[mask, 'count_heart_rate']\n",
    "    merge_df.drop(['sum_heart_rate', 'count_heart_rate'], axis=1, inplace=True)\n",
    "    print(f\"[{sid}] wHr merge complete.\")\n",
    "\n",
    "    # 6. prep_wPedo (distance, burned_calories: 단순 합)\n",
    "    merge_df.loc[merge_mask, 'distance'] = 0.0\n",
    "    merge_df.loc[merge_mask, 'burned_calories'] = 0.0\n",
    "\n",
    "    wp = prep_wPedo[prep_wPedo['subject_id'] == sid]\n",
    "    for _, row in wp.iterrows():\n",
    "        idx = (merge_df[merge_mask]['timestamp'] - row['timestamp']).abs().idxmin()\n",
    "        merge_df.loc[idx, 'distance'] += row['distance']\n",
    "        merge_df.loc[idx, 'burned_calories'] += row['burned_calories']\n",
    "    print(f\"[{sid}] wPedo merge complete.\")\n",
    "\n",
    "    # 7. prep_mGps (4개, 평균)\n",
    "    for col in ['avg_latitude', 'avg_longitude', 'avg_altitude', 'avg_speed']:\n",
    "        merge_df.loc[merge_mask, 'sum_' + col] = 0.0\n",
    "        merge_df.loc[merge_mask, 'count_' + col] = 0\n",
    "        merge_df.loc[merge_mask, col] = np.nan\n",
    "\n",
    "    mgps = prep_mGps[prep_mGps['subject_id'] == sid]\n",
    "    for _, row in mgps.iterrows():\n",
    "        idx = (merge_df[merge_mask]['timestamp'] - row['timestamp']).abs().idxmin()\n",
    "        for col in ['avg_latitude', 'avg_longitude', 'avg_altitude', 'avg_speed']:\n",
    "            val = row[col]\n",
    "            merge_df.loc[idx, 'sum_' + col] += val\n",
    "            merge_df.loc[idx, 'count_' + col] += 1\n",
    "    for col in ['avg_latitude', 'avg_longitude', 'avg_altitude', 'avg_speed']:\n",
    "        mask_gps = (merge_df['subject_id'] == sid) & (merge_df['count_' + col] > 0)\n",
    "        merge_df.loc[mask_gps, col] = merge_df.loc[mask_gps, 'sum_' + col] / merge_df.loc[mask_gps, 'count_' + col]\n",
    "        merge_df.drop(['sum_' + col, 'count_' + col], axis=1, inplace=True)\n",
    "    print(f\"[{sid}] mGps merge complete.\")\n"
   ]
  },
  {
   "cell_type": "code",
   "execution_count": 69,
   "id": "7439aae2",
   "metadata": {},
   "outputs": [
    {
     "name": "stdout",
     "output_type": "stream",
     "text": [
      "[id01] wLight merge complete.\n",
      "[id01] mAmbience merge complete.\n",
      "[id02] wLight merge complete.\n",
      "[id02] mAmbience merge complete.\n",
      "[id03] wLight merge complete.\n",
      "[id03] mAmbience merge complete.\n",
      "[id04] wLight merge complete.\n",
      "[id04] mAmbience merge complete.\n",
      "[id05] wLight merge complete.\n",
      "[id05] mAmbience merge complete.\n",
      "[id06] wLight merge complete.\n",
      "[id06] mAmbience merge complete.\n",
      "[id07] wLight merge complete.\n",
      "[id07] mAmbience merge complete.\n",
      "[id08] wLight merge complete.\n",
      "[id08] mAmbience merge complete.\n",
      "[id09] wLight merge complete.\n",
      "[id09] mAmbience merge complete.\n",
      "[id10] wLight merge complete.\n",
      "[id10] mAmbience merge complete.\n",
      "All subject_id merging complete!\n"
     ]
    }
   ],
   "source": [
    "# 8, 9\n",
    "\n",
    "for sid in all_ids:\n",
    "    merge_mask = (merge_df['subject_id'] == sid)\n",
    "\n",
    "    # 8. prep_wLight (평균)\n",
    "    merge_df.loc[merge_mask, 'sum_light'] = 0.0\n",
    "    merge_df.loc[merge_mask, 'count_light'] = 0\n",
    "    merge_df.loc[merge_mask, 'avg_light'] = np.nan\n",
    "\n",
    "    wl = prep_wLight[prep_wLight['subject_id'] == sid]\n",
    "    for _, row in wl.iterrows():\n",
    "        idx = (merge_df[merge_mask]['timestamp'] - row['timestamp']).abs().idxmin()\n",
    "        merge_df.loc[idx, 'sum_light'] += row['w_light']\n",
    "        merge_df.loc[idx, 'count_light'] += 1\n",
    "    mask_light = (merge_df['subject_id'] == sid) & (merge_df['count_light'] > 0)\n",
    "    merge_df.loc[mask_light, 'avg_light'] = merge_df.loc[mask_light, 'sum_light'] / merge_df.loc[mask_light, 'count_light']\n",
    "    merge_df.drop(['sum_light', 'count_light'], axis=1, inplace=True)\n",
    "    print(f\"[{sid}] wLight merge complete.\")\n",
    "\n",
    "    # 9. prep_mAmbience (평균, 컬럼명은 avg_prob_ambience로 가정)\n",
    "    merge_df.loc[merge_mask, 'sum_prob_ambience'] = 0.0\n",
    "    merge_df.loc[merge_mask, 'count_prob_ambience'] = 0\n",
    "    merge_df.loc[merge_mask, 'avg_prob_ambience'] = np.nan\n",
    "\n",
    "    amb = prep_mAmbience[prep_mAmbience['subject_id'] == sid]\n",
    "    for _, row in amb.iterrows():\n",
    "        idx = (merge_df[merge_mask]['timestamp'] - row['timestamp']).abs().idxmin()\n",
    "        merge_df.loc[idx, 'sum_prob_ambience'] += row['prob_ambience']\n",
    "        merge_df.loc[idx, 'count_prob_ambience'] += 1\n",
    "    mask_amb = (merge_df['subject_id'] == sid) & (merge_df['count_prob_ambience'] > 0)\n",
    "    merge_df.loc[mask_amb, 'avg_prob_ambience'] = merge_df.loc[mask_amb, 'sum_prob_ambience'] / merge_df.loc[mask_amb, 'count_prob_ambience']\n",
    "    merge_df.drop(['sum_prob_ambience', 'count_prob_ambience'], axis=1, inplace=True)\n",
    "    print(f\"[{sid}] mAmbience merge complete.\")\n",
    "\n",
    "print(\"All subject_id merging complete!\")\n"
   ]
  },
  {
   "cell_type": "code",
   "execution_count": 70,
   "id": "28aaf381",
   "metadata": {},
   "outputs": [
    {
     "name": "stdout",
     "output_type": "stream",
     "text": [
      "  subject_id           timestamp  m_usage_time  met_activity   wb_rssi   ww_rssi  avg_heart_rate    distance  burned_calories  avg_latitude  avg_longitude  avg_altitude  avg_speed    avg_light  avg_prob_ambience\n",
      "0       id01 2024-06-26 12:00:00           NaN          2.52       NaN  0.202476             NaN    0.000000         0.000000      0.207810       0.169965    110.730303   0.079567          NaN                NaN\n",
      "1       id01 2024-06-26 12:10:00           NaN          8.40  0.102155  0.091135             NaN    8.330000         0.000000      0.207854       0.169963    110.718788   0.008615          NaN                NaN\n",
      "2       id01 2024-06-26 12:20:00           NaN          7.70  0.098621  0.063361      123.714957    0.000000         0.000000      0.207862       0.169972    110.742121   0.003272   380.222222                NaN\n",
      "3       id01 2024-06-26 12:30:00           NaN          7.70  0.037712  0.005904      104.670028    8.460001         0.620000      0.207864       0.169977    110.725455   0.001903   445.900000                NaN\n",
      "4       id01 2024-06-26 12:40:00           NaN         12.67       NaN  0.035869       93.094518  306.940163        17.380004      0.207821       0.169810    109.348509   1.520442   699.500000                NaN\n",
      "5       id01 2024-06-26 12:50:00           NaN          9.10       NaN  0.038284       78.624181    0.000000         0.000000      0.221348       0.156797     85.349712   6.074147  1118.700000                NaN\n",
      "6       id01 2024-06-26 13:00:00        7955.0         13.51       NaN  0.003126       88.808333  158.919525         7.500055      0.242561       0.140515     83.026418   3.483478  2372.100000           0.320634\n",
      "7       id01 2024-06-26 13:10:00      490306.0         11.97       NaN  0.005748       97.662034   63.499969         2.590014      0.245561       0.139898    110.170106   0.105840   270.900000           0.867759\n",
      "8       id01 2024-06-26 13:20:00      599985.0          7.70  0.017129  0.005529       90.566102    0.000000         0.000000      0.245513       0.139907    116.080379   0.010426   376.900000           0.620026\n",
      "9       id01 2024-06-26 13:30:00      212438.0          7.70       NaN  0.007582       82.593475    0.000000         0.000000      0.245464       0.139913     85.184167   0.009128   315.400000           0.765143\n",
      "--------------------------------------------------\n",
      "       subject_id           timestamp  m_usage_time  met_activity   wb_rssi   ww_rssi  avg_heart_rate  distance  burned_calories  avg_latitude  avg_longitude  avg_altitude  avg_speed  avg_light  avg_prob_ambience\n",
      "122271       id10 2024-09-26 22:30:00      122365.0          11.0       NaN  0.097736             NaN       0.0              0.0      0.025579       0.041083    108.100000   0.102555        0.0           0.556642\n",
      "122272       id10 2024-09-26 22:40:00      240647.0          11.0       NaN  0.122244             NaN       0.0              0.0      0.025573       0.041096    108.100000   0.108617        0.0           0.772096\n",
      "122273       id10 2024-09-26 22:50:00      328072.0          11.0  0.004954  0.106542             NaN       0.0              0.0      0.025575       0.041097    108.100000   0.083987        0.0           0.711158\n",
      "122274       id10 2024-09-26 23:00:00           NaN          11.0       NaN       NaN             NaN       0.0              0.0           NaN            NaN           NaN        NaN        0.0           0.602520\n",
      "122275       id10 2024-09-26 23:10:00           NaN          11.0       NaN       NaN             NaN       0.0              0.0           NaN            NaN           NaN        NaN        0.0           0.661790\n",
      "122276       id10 2024-09-26 23:20:00      176173.0          11.0       NaN  0.096281             NaN       0.0              0.0      0.025587       0.041089    108.053393   0.035985        0.0           0.567280\n",
      "122277       id10 2024-09-26 23:30:00      379628.0          11.0       NaN  0.143405             NaN       0.0              0.0      0.025572       0.041097    108.100000   0.138498        0.0           0.609428\n",
      "122278       id10 2024-09-26 23:40:00           NaN          11.0       NaN       NaN             NaN       0.0              0.0           NaN            NaN           NaN        NaN        0.0           0.604912\n",
      "122279       id10 2024-09-26 23:50:00           NaN          11.0       NaN  0.067088             NaN       0.0              0.0      0.025591       0.041112    109.050000   0.094517        0.0           0.280806\n",
      "122280       id10 2024-09-27 00:00:00           NaN           4.4  0.007836  0.104738             NaN       0.0              0.0      0.025576       0.041102    108.100000   0.083507        0.0           0.461117\n"
     ]
    }
   ],
   "source": [
    "print(merge_df.head(10))\n",
    "print(\"-\"*50)\n",
    "print(merge_df.tail(10))"
   ]
  },
  {
   "cell_type": "markdown",
   "id": "7d114ddd",
   "metadata": {},
   "source": [
    "# Handling missing values"
   ]
  },
  {
   "cell_type": "markdown",
   "id": "fb02eca5",
   "metadata": {},
   "source": [
    "### Missing values analysis"
   ]
  },
  {
   "cell_type": "code",
   "execution_count": null,
   "id": "f08d1d69",
   "metadata": {},
   "outputs": [
    {
     "data": {
      "image/png": "[encoded data removed]",
      "text/plain": [
       "<Figure size 1200x600 with 1 Axes>"
      ]
     },
     "metadata": {},
     "output_type": "display_data"
    },
    {
     "name": "stdout",
     "output_type": "stream",
     "text": [
      "wb_rssi              100455\n",
      "avg_heart_rate        78877\n",
      "m_usage_time          77084\n",
      "ww_rssi               45959\n",
      "avg_light             42098\n",
      "avg_latitude          39049\n",
      "avg_longitude         39049\n",
      "avg_altitude          39049\n",
      "avg_speed             39049\n",
      "avg_prob_ambience     26602\n",
      "subject_id                0\n",
      "timestamp                 0\n",
      "met_activity              0\n",
      "distance                  0\n",
      "burned_calories           0\n",
      "dtype: int64\n"
     ]
    }
   ],
   "source": [
    "# Missing value analysis\n",
    "missing_ratio = merge_df.isnull().mean()\n",
    "\n",
    "# Graphical representation of missing values\n",
    "plt.figure(figsize=(12, 6))\n",
    "missing_ratio.sort_values(ascending=False).plot(kind='bar')\n",
    "plt.title('Missing Value Ratio per Column')\n",
    "plt.ylabel('Missing Ratio')\n",
    "plt.xlabel('Column')\n",
    "plt.ylim(0, 1)\n",
    "plt.grid(axis='y', linestyle='--', alpha=0.5)\n",
    "plt.tight_layout()\n",
    "plt.show()\n",
    "\n",
    "missing_counts = merge_df.isnull().sum().sort_values(ascending=False)\n",
    "print(missing_counts)\n"
   ]
  },
  {
   "cell_type": "markdown",
   "id": "a272d092",
   "metadata": {},
   "source": [
    "### Missing data imputation"
   ]
  },
  {
   "cell_type": "code",
   "execution_count": 83,
   "id": "b3c94cec",
   "metadata": {},
   "outputs": [],
   "source": [
    "gps_cols = ['avg_latitude', 'avg_longitude', 'avg_altitude', 'avg_speed']\n",
    "\n",
    "for sid in merge_df['subject_id'].unique():\n",
    "    mask = (merge_df['subject_id'] == sid)\n",
    "    df_sid = merge_df[mask]\n",
    "\n",
    "    # 1. wb_rssi: fill missing with 0\n",
    "    merge_df.loc[mask, 'wb_rssi'] = df_sid['wb_rssi'].fillna(0)\n",
    "\n",
    "    # 2. avg_heart_rate: interpolate with neighbors' mean for consecutive missing blocks\n",
    "    idx_nan = df_sid['avg_heart_rate'][df_sid['avg_heart_rate'].isnull()].index\n",
    "    # find consecutive NaN blocks\n",
    "    nan_groups = (~df_sid['avg_heart_rate'].isnull()).cumsum()\n",
    "    for k, group in df_sid['avg_heart_rate'][df_sid['avg_heart_rate'].isnull()].groupby(nan_groups):\n",
    "        block_idx = group.index\n",
    "        if len(block_idx) == 0:\n",
    "            continue\n",
    "        prev_idx = block_idx[0] - 1\n",
    "        next_idx = block_idx[-1] + 1\n",
    "        if prev_idx in df_sid.index and next_idx in df_sid.index:\n",
    "            prev_val = df_sid.loc[prev_idx, 'avg_heart_rate']\n",
    "            next_val = df_sid.loc[next_idx, 'avg_heart_rate']\n",
    "            if not np.isnan(prev_val) and not np.isnan(next_val):\n",
    "                mean_val = (prev_val + next_val) / 2\n",
    "                merge_df.loc[block_idx, 'avg_heart_rate'] = mean_val\n",
    "    \n",
    "    heart_nan_rows = df_sid[df_sid['avg_heart_rate'].isnull()].index\n",
    "    merge_df.drop(index=heart_nan_rows, inplace=True)\n",
    "\n",
    "    # 3. m_usage_time: fill missing with 0\n",
    "    merge_df.loc[mask, 'm_usage_time'] = df_sid['m_usage_time'].fillna(0)\n",
    "\n",
    "    # 4. ww_rssi: fill missing with 0\n",
    "    merge_df.loc[mask, 'ww_rssi'] = df_sid['ww_rssi'].fillna(0)\n",
    "\n",
    "    # 5. avg_light: fill missing with 0\n",
    "    merge_df.loc[mask, 'avg_light'] = df_sid['avg_light'].fillna(0)\n",
    "\n",
    "    # 6. avg_latitude, avg_longitude, avg_altitude, avg_speed: drop rows with any missing\n",
    "    gps_nan_rows = df_sid[df_sid[gps_cols].isnull().any(axis=1)].index\n",
    "    merge_df.drop(index=gps_nan_rows, inplace=True)\n",
    "\n",
    "    # 7. avg_prob_ambience: fill missing with 0\n",
    "    merge_df.loc[mask, 'avg_prob_ambience'] = df_sid['avg_prob_ambience'].fillna(0)\n",
    "\n",
    "# 인덱스 재정렬(필요시)\n",
    "merge_df = merge_df.reset_index(drop=True)\n"
   ]
  },
  {
   "cell_type": "code",
   "execution_count": null,
   "id": "6d06c4cc",
   "metadata": {},
   "outputs": [
    {
     "name": "stdout",
     "output_type": "stream",
     "text": [
      "subject_id           0\n",
      "timestamp            0\n",
      "m_usage_time         0\n",
      "met_activity         0\n",
      "wb_rssi              0\n",
      "ww_rssi              0\n",
      "avg_heart_rate       0\n",
      "distance             0\n",
      "burned_calories      0\n",
      "avg_latitude         0\n",
      "avg_longitude        0\n",
      "avg_altitude         0\n",
      "avg_speed            0\n",
      "avg_light            0\n",
      "avg_prob_ambience    0\n",
      "dtype: int64\n"
     ]
    }
   ],
   "source": [
    "missing_counts = merge_df.isnull().sum().sort_values(ascending=False)\n",
    "print(missing_counts)"
   ]
  },
  {
   "cell_type": "code",
   "execution_count": 89,
   "id": "fc5d55ff",
   "metadata": {},
   "outputs": [],
   "source": [
    "merge_df.to_csv('merge_df.csv', index=False)"
   ]
  }
 ],
 "metadata": {
  "kernelspec": {
   "display_name": "base",
   "language": "python",
   "name": "python3"
  },
  "language_info": {
   "codemirror_mode": {
    "name": "ipython",
    "version": 3
   },
   "file_extension": ".py",
   "mimetype": "text/x-python",
   "name": "python",
   "nbconvert_exporter": "python",
   "pygments_lexer": "ipython3",
   "version": "3.12.7"
  }
 },
 "nbformat": 4,
 "nbformat_minor": 5
}
